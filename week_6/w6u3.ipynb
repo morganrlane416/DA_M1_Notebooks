{
 "cells": [
  {
   "cell_type": "markdown",
   "metadata": {},
   "source": [
    "# The `math`, the `random` and the `statistics` libraries \n",
    "This unit focuses on using different functionalities provided by the `math`, `random` and `statistics` libraries. \n",
    "These libraries are part of the [Python Standard Library](https://docs.python.org/3/library/index.html).\n",
    "In order to explore these libraries two exercises are used. To familiarize yourself with the Python Standard Library and\n",
    "the documentation it is highly recommended that you try to solve the exercises yourself before looking at the solutions.\n",
    "\n",
    "\n",
    "## Exercises\n",
    "\n",
    "### Exercise 1 - The `math` library\n",
    "\n",
    "Write a program that performs the following tasks:\n",
    "1. Get a integer number from the user\n",
    "1. Calculate the factorial ($x!$) of this number\n",
    "1. Calculate the natural logarithm and the logarithm to the base 10 of the number\n",
    "\n",
    "Explore the [documentation](https://docs.python.org/3/library/math.html) of the `math` library to find suitable\n",
    "functions."
   ]
  },
  {
   "cell_type": "code",
   "execution_count": 17,
   "metadata": {},
   "outputs": [
    {
     "name": "stdout",
     "output_type": "stream",
     "text": [
      "What is your integer?\n",
      "5040\n",
      "The factorial of your number is  5040\n",
      "The natural log of your number is  1.9459101490553132\n",
      "The log base 10 of your number is  0.8450980400142568\n"
     ]
    }
   ],
   "source": [
    "# Implement your solution here\n",
    "import math\n",
    "print('What is your integer?')\n",
    "num = int(input())\n",
    "\n",
    "fac = 1\n",
    "for i in range(1,num+1):\n",
    "    fac *= i\n",
    "print (fac)\n",
    "print (f'The factorial of your number is ',math.factorial(num))\n",
    "print(f'The natural log of your number is ', math.log(num))\n",
    "print(f'The log base 10 of your number is ', math.log10(num))\n",
    "\n"
   ]
  },
  {
   "cell_type": "markdown",
   "metadata": {},
   "source": [
    "### Exercise 2 - The `random` and `statistics` libraries\n",
    "\n",
    "Use functions from the `random` and `statistics` libraries to\n",
    "- generate a list of 100 random integer numbers between 1 and 10\n",
    "- calculate the mean of this list\n",
    "- calculate the median of this list\n",
    "- calculate the variance of this list\n",
    "\n",
    "Explore the documentation of the [`random`](https://docs.python.org/3/library/random.html) and the\n",
    "[`statistics`](https://docs.python.org/3/library/statistics.html) libraries to find suitable functions. "
   ]
  },
  {
   "cell_type": "code",
   "execution_count": 18,
   "metadata": {},
   "outputs": [],
   "source": [
    "# Implement your solution here\n",
    "import random as rand\n",
    "import statistics as stat"
   ]
  },
  {
   "cell_type": "code",
   "execution_count": 27,
   "metadata": {},
   "outputs": [
    {
     "name": "stdout",
     "output_type": "stream",
     "text": [
      "[7, 5, 6, 6, 9, 3, 8, 3, 10, 6, 6, 1, 3, 7, 4, 10, 3, 10, 1, 4, 6, 3, 9, 10, 7, 6, 3, 6, 1, 8, 10, 6, 7, 1, 2, 6, 9, 10, 7, 6, 6, 3, 9, 9, 2, 5, 1, 10, 8, 8, 2, 8, 7, 2, 5, 1, 4, 10, 7, 3, 9, 1, 1, 8, 6, 5, 4, 7, 8, 10, 6, 9, 9, 4, 1, 5, 8, 9, 1, 7, 5, 9, 2, 8, 2, 7, 1, 3, 5, 4, 9, 6, 10, 10, 1, 6, 10, 10, 10, 5]\n",
      "100\n",
      "The mean of the list is  5.86\n",
      "The mean of the list is  6.0\n",
      "The mean of the list is  8.848888888888888\n"
     ]
    }
   ],
   "source": [
    "list_of_num = []\n",
    "for i in range (0,100):\n",
    "    list_of_num.append(rand.randrange(1,10+1))\n",
    "print(list_of_num)\n",
    "print(len(list_of_num))\n",
    "print(f'The mean of the list is ', stat.mean(list_of_num))\n",
    "print(f'The mean of the list is ', stat.median(list_of_num))\n",
    "print(f'The mean of the list is ', stat.variance(list_of_num))"
   ]
  }
 ],
 "metadata": {
  "interpreter": {
   "hash": "9fd0e282e2343d8b38b390b803aabc7fcea80a18eee8e5bd23ce64f6435b30a1"
  },
  "kernelspec": {
   "display_name": "Python 3",
   "language": "python",
   "name": "python3"
  },
  "language_info": {
   "codemirror_mode": {
    "name": "ipython",
    "version": 3
   },
   "file_extension": ".py",
   "mimetype": "text/x-python",
   "name": "python",
   "nbconvert_exporter": "python",
   "pygments_lexer": "ipython3",
   "version": "3.13.2"
  }
 },
 "nbformat": 4,
 "nbformat_minor": 2
}
